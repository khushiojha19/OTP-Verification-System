{
  "nbformat": 4,
  "nbformat_minor": 0,
  "metadata": {
    "colab": {
      "provenance": []
    },
    "kernelspec": {
      "name": "python3",
      "display_name": "Python 3"
    },
    "language_info": {
      "name": "python"
    }
  },
  "cells": [
    {
      "cell_type": "markdown",
      "source": [
        " **Importing of Library**"
      ],
      "metadata": {
        "id": "WPsOEkYWx6qN"
      }
    },
    {
      "cell_type": "code",
      "source": [
        "import random"
      ],
      "metadata": {
        "id": "EMq-Z48byMMN"
      },
      "execution_count": 1,
      "outputs": []
    },
    {
      "cell_type": "markdown",
      "source": [
        "**Steps for the Project are given below:**"
      ],
      "metadata": {
        "id": "TACFICJ0yP8L"
      }
    },
    {
      "cell_type": "markdown",
      "source": [
        "**Step 01 : OTP Generation**"
      ],
      "metadata": {
        "id": "CS7Tte4jyiC2"
      }
    },
    {
      "cell_type": "code",
      "source": [
        "''' This step will help to generate a random 6-digit OTP.\n",
        "\n",
        "    The number is generated between 100000 and 999999.\n",
        "\n",
        "    Thus, A 6-digit random OTP as a string is generated. '''\n",
        "\n",
        "\n",
        "\n",
        "def generate_otp():\n",
        "  otp = f\"{random.randint(100000, 999999)}\"\n",
        "  return otp\n"
      ],
      "metadata": {
        "id": "aDxN5wRXynY6"
      },
      "execution_count": 2,
      "outputs": []
    },
    {
      "cell_type": "markdown",
      "source": [
        "**Step 02 : Sending OTP**"
      ],
      "metadata": {
        "id": "Np2XAT5Izofo"
      }
    },
    {
      "cell_type": "code",
      "source": [
        "DEBUG = True\n"
      ],
      "metadata": {
        "id": "zUesOlMszrtF"
      },
      "execution_count": 3,
      "outputs": []
    },
    {
      "cell_type": "code",
      "source": [
        "''' This step will help simulate sending the OTP to the user's email address.\n",
        "\n",
        "    Args:\n",
        "        The email (str) will take the user's email address as input and\n",
        "        the otp (str) will take the generated OTP as input.\n",
        "\n",
        "    Thus, this function simply prints the OTP for simulation purposes.\n",
        "\n",
        "    The debug line is used to show the OTP for testing purposes. '''\n",
        "\n",
        "\n",
        "\n",
        "def send_otp(email, otp):\n",
        "   print(f\" \\n OTP has been sent to {email}.\")\n",
        "\n",
        "   if DEBUG:\n",
        "        print(f\" \\n DEBUG: The OTP is {otp}\")\n"
      ],
      "metadata": {
        "id": "vt7WzW7O173J"
      },
      "execution_count": 4,
      "outputs": []
    },
    {
      "cell_type": "markdown",
      "source": [
        "**Step 03 : Input from User & Validation**"
      ],
      "metadata": {
        "id": "Yt68e-9i2IP_"
      }
    },
    {
      "cell_type": "code",
      "source": [
        "''' This step will help to prompt the user to enter the OTP they received.\n",
        "\n",
        "    And the user need to enter the OTP received as string. '''\n",
        "\n",
        "\n",
        "\n",
        "def get_user_otp():\n",
        "\n",
        "    return input(\" \\n Please enter the OTP you received: \")\n"
      ],
      "metadata": {
        "id": "izX1hNot2O_d"
      },
      "execution_count": 5,
      "outputs": []
    },
    {
      "cell_type": "code",
      "source": [
        "''' This step will help to check if the entered OTP matches the generated OTP.\n",
        "\n",
        "    Args:\n",
        "        The generated_otp (str) will take the generated OTP as input and\n",
        "        the user_otp (str) will take the OTP entered by the user as input.\n",
        "\n",
        "    The boolean 'True' is returned if the OTPs match, otherwise 'False' is returned.   '''\n",
        "\n",
        "\n",
        "\n",
        "def verify_otp(generated_otp, user_otp):\n",
        "\n",
        "    return generated_otp == user_otp\n"
      ],
      "metadata": {
        "id": "GR1xHkJ420Ac"
      },
      "execution_count": 6,
      "outputs": []
    },
    {
      "cell_type": "markdown",
      "source": [
        "**Step 04 : Main Program**"
      ],
      "metadata": {
        "id": "qGI-tpGN3rvw"
      }
    },
    {
      "cell_type": "code",
      "source": [
        "''' This step includes the main function to manage the OTP verification process.\n",
        "\n",
        "      Step 1: To collect user's email address\n",
        "\n",
        "      Step 2: To generate the OTP\n",
        "\n",
        "      Step 3: To simulate sending the OTP\n",
        "\n",
        "      Step 4: To allow the user to enter and verify OTP (Only 3 attempts allowed)\n",
        "\n",
        "      Step 5: Main program execution   '''\n",
        "\n",
        "\n",
        "\n",
        "def main():\n",
        "\n",
        "  print(\" \\n\\n Welcome to the OTP Verification System! \\n \")\n",
        "\n",
        "  email = input(\" \\n Enter your email address: \")               # Step 1\n",
        "\n",
        "  otp = generate_otp()                                      # Step 2\n",
        "\n",
        "  send_otp(email, otp)                                      # Step 3\n",
        "\n",
        "  for attempt in range(3):                                  # Step 4\n",
        "        print(f\" \\n Attempt {attempt + 1} of 3: \\n \")\n",
        "\n",
        "        user_otp = get_user_otp()\n",
        "\n",
        "        if verify_otp(otp, user_otp):\n",
        "            print(\" \\n Access granted! OTP verified successfully. \\n \")\n",
        "\n",
        "            return\n",
        "\n",
        "        remaining_attempts = 2 - attempt\n",
        "        if remaining_attempts > 0:\n",
        "            print(f\" \\n Incorrect OTP. You have {remaining_attempts} attempt(s) left. \\n \")\n",
        "\n",
        "        else:\n",
        "            print(\" \\n No attempts left. Access denied. \\n \")\n",
        "\n",
        "\n",
        "\n",
        "if __name__ == \"__main__\":                                  # Step 5\n",
        "    main()"
      ],
      "metadata": {
        "colab": {
          "base_uri": "https://localhost:8080/"
        },
        "id": "lyhcP-BR3vb4",
        "outputId": "35178c66-189a-440f-bee0-d568d3098127"
      },
      "execution_count": 12,
      "outputs": [
        {
          "output_type": "stream",
          "name": "stdout",
          "text": [
            " \n",
            "\n",
            " Welcome to the OTP Verification System! \n",
            " \n",
            " \n",
            " Enter your email address: testuser@example.com\n",
            " OTP has been sent to testuser@example.com.\n",
            "DEBUG: The OTP is 854696\n",
            " \n",
            " Attempt 1 of 3: \n",
            " \n",
            "Please enter the OTP you received: 854696\n",
            " \n",
            " Access granted! OTP verified successfully. \n",
            " \n"
          ]
        }
      ]
    }
  ]
}